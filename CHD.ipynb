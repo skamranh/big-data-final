{
  "nbformat": 4,
  "nbformat_minor": 0,
  "metadata": {
    "colab": {
      "name": "CHD.ipynb",
      "provenance": [],
      "mount_file_id": "1E6ZzMaTdpKT-oQO1oT7EEPMTbCsp-aN9",
      "authorship_tag": "ABX9TyOBqyZSH1zuu7Y7KVXmxMQz",
      "include_colab_link": true
    },
    "kernelspec": {
      "name": "python3",
      "display_name": "Python 3"
    },
    "language_info": {
      "name": "python"
    }
  },
  "cells": [
    {
      "cell_type": "markdown",
      "metadata": {
        "id": "view-in-github",
        "colab_type": "text"
      },
      "source": [
        "<a href=\"https://colab.research.google.com/github/skamranh/big-data-final/blob/main/CHD.ipynb\" target=\"_parent\"><img src=\"https://colab.research.google.com/assets/colab-badge.svg\" alt=\"Open In Colab\"/></a>"
      ]
    },
    {
      "cell_type": "markdown",
      "source": [
        "# Reference\n",
        "- https://www.kaggle.com/code/wassimchouchen/principal-component-analysis"
      ],
      "metadata": {
        "id": "CuUfwFn0CWO7"
      }
    },
    {
      "cell_type": "code",
      "execution_count": 2,
      "metadata": {
        "colab": {
          "base_uri": "https://localhost:8080/"
        },
        "id": "KQ-2WzZkCTQX",
        "outputId": "0145b973-03ba-412a-ac22-9b000c7d4ec1"
      },
      "outputs": [
        {
          "output_type": "stream",
          "name": "stdout",
          "text": [
            "Collecting pyspark\n",
            "  Downloading pyspark-3.2.1.tar.gz (281.4 MB)\n",
            "\u001b[K     |████████████████████████████████| 281.4 MB 33 kB/s \n",
            "\u001b[?25hCollecting py4j==0.10.9.3\n",
            "  Downloading py4j-0.10.9.3-py2.py3-none-any.whl (198 kB)\n",
            "\u001b[K     |████████████████████████████████| 198 kB 50.1 MB/s \n",
            "\u001b[?25hBuilding wheels for collected packages: pyspark\n",
            "  Building wheel for pyspark (setup.py) ... \u001b[?25l\u001b[?25hdone\n",
            "  Created wheel for pyspark: filename=pyspark-3.2.1-py2.py3-none-any.whl size=281853642 sha256=dd7daf4b2fd3e0b7fa7f45a981035c6e0d20bde3390fef29c8013c175204e24b\n",
            "  Stored in directory: /root/.cache/pip/wheels/9f/f5/07/7cd8017084dce4e93e84e92efd1e1d5334db05f2e83bcef74f\n",
            "Successfully built pyspark\n",
            "Installing collected packages: py4j, pyspark\n",
            "Successfully installed py4j-0.10.9.3 pyspark-3.2.1\n"
          ]
        },
        {
          "output_type": "stream",
          "name": "stderr",
          "text": [
            "WARNING:root:'PYARROW_IGNORE_TIMEZONE' environment variable was not set. It is required to set this environment variable to '1' in both driver and executor sides if you use pyarrow>=2.0.0. pandas-on-Spark will set it for you but it does not work if there is a Spark context already launched.\n"
          ]
        }
      ],
      "source": [
        "!pip install pyspark\n",
        "!pip install -q findspark\n",
        "\n",
        "import pyspark\n",
        "import findspark\n",
        "findspark.init()\n",
        "from pyspark.sql import SparkSession\n",
        "\n",
        "import os\n",
        "import numpy as np\n",
        "import pandas as pd\n",
        "from matplotlib import pyplot as plt\n",
        "%matplotlib inline \n",
        "import seaborn as sns\n",
        "import pyspark.pandas as ps\n",
        "\n",
        "spark = SparkSession.builder.appName('wine').getOrCreate()"
      ]
    },
    {
      "cell_type": "code",
      "source": [
        "dataset_loc = \"/content/drive/MyDrive/Dataset/chd.csv\"\n",
        "chd_spark = spark.read.csv(dataset_loc, header=\"true\")\n",
        "chd_pd = pd.read_csv(dataset_loc)\n",
        "chd_ps = ps.read_csv(dataset_loc)"
      ],
      "metadata": {
        "id": "mYZnEd1iD77H"
      },
      "execution_count": 3,
      "outputs": []
    },
    {
      "cell_type": "code",
      "source": [
        "chd_ps.head()"
      ],
      "metadata": {
        "colab": {
          "base_uri": "https://localhost:8080/",
          "height": 573
        },
        "id": "ZC9t_F0ME5Ap",
        "outputId": "dea53809-2c37-4d60-f9ca-b7c6eb5be4e5"
      },
      "execution_count": 5,
      "outputs": [
        {
          "output_type": "execute_result",
          "data": {
            "text/plain": [
              "   Year LocationAbbr LocationDesc Datasource PriorityArea1 PriorityArea2 PriorityArea3 PriorityArea4                 Category                         Topic                                                                Indicator   Data_Value_Type Data_Value_Unit  Data_Value  Data_Value_Alt Data_Value_Footnote_Symbol Data_Value_Footnote  Confidence_Limit_Low  Confidence_Limit_High Break_Out_Category Break_out CategoryID TopicID IndicatorID Data_Value_TypeID BreakoutCategoryID BreakOutID  LocationID                              GeoLocation\n",
              "0  2011           AL      Alabama      BRFSS          None          None          None          None  Cardiovascular Diseases  Major Cardiovascular Disease  Prevalence of major cardiovascular disease among US adults (18+); BRFSS  Age-Standardized     Percent (%)         9.9             9.9                       None                None                   9.2                   10.7            Overall   Overall         C1      T1       BR001           AgeStdz              BOC01      OVR01           1  (32.84057112200048, -86.63186076199969)\n",
              "1  2011           AL      Alabama      BRFSS          None          None          None          None  Cardiovascular Diseases  Major Cardiovascular Disease  Prevalence of major cardiovascular disease among US adults (18+); BRFSS             Crude     Percent (%)        11.0            11.0                       None                None                  10.2                   11.9            Overall   Overall         C1      T1       BR001             Crude              BOC01      OVR01           1  (32.84057112200048, -86.63186076199969)\n",
              "2  2011           AL      Alabama      BRFSS          None          None          None          None  Cardiovascular Diseases  Major Cardiovascular Disease  Prevalence of major cardiovascular disease among US adults (18+); BRFSS             Crude     Percent (%)        12.5            12.5                       None                None                  11.1                   14.0             Gender      Male         C1      T1       BR001             Crude              BOC02      GEN01           1  (32.84057112200048, -86.63186076199969)\n",
              "3  2011           AL      Alabama      BRFSS          None          None          None          None  Cardiovascular Diseases  Major Cardiovascular Disease  Prevalence of major cardiovascular disease among US adults (18+); BRFSS  Age-Standardized     Percent (%)        11.8            11.8                       None                None                  10.6                   13.2             Gender      Male         C1      T1       BR001           AgeStdz              BOC02      GEN01           1  (32.84057112200048, -86.63186076199969)\n",
              "4  2011           AL      Alabama      BRFSS          None          None          None          None  Cardiovascular Diseases  Major Cardiovascular Disease  Prevalence of major cardiovascular disease among US adults (18+); BRFSS  Age-Standardized     Percent (%)         8.3             8.3                       None                None                   7.5                    9.1             Gender    Female         C1      T1       BR001           AgeStdz              BOC02      GEN02           1  (32.84057112200048, -86.63186076199969)"
            ],
            "text/html": [
              "<div>\n",
              "<style scoped>\n",
              "    .dataframe tbody tr th:only-of-type {\n",
              "        vertical-align: middle;\n",
              "    }\n",
              "\n",
              "    .dataframe tbody tr th {\n",
              "        vertical-align: top;\n",
              "    }\n",
              "\n",
              "    .dataframe thead th {\n",
              "        text-align: right;\n",
              "    }\n",
              "</style>\n",
              "<table border=\"1\" class=\"dataframe\">\n",
              "  <thead>\n",
              "    <tr style=\"text-align: right;\">\n",
              "      <th></th>\n",
              "      <th>Year</th>\n",
              "      <th>LocationAbbr</th>\n",
              "      <th>LocationDesc</th>\n",
              "      <th>Datasource</th>\n",
              "      <th>PriorityArea1</th>\n",
              "      <th>PriorityArea2</th>\n",
              "      <th>PriorityArea3</th>\n",
              "      <th>PriorityArea4</th>\n",
              "      <th>Category</th>\n",
              "      <th>Topic</th>\n",
              "      <th>Indicator</th>\n",
              "      <th>Data_Value_Type</th>\n",
              "      <th>Data_Value_Unit</th>\n",
              "      <th>Data_Value</th>\n",
              "      <th>Data_Value_Alt</th>\n",
              "      <th>Data_Value_Footnote_Symbol</th>\n",
              "      <th>Data_Value_Footnote</th>\n",
              "      <th>Confidence_Limit_Low</th>\n",
              "      <th>Confidence_Limit_High</th>\n",
              "      <th>Break_Out_Category</th>\n",
              "      <th>Break_out</th>\n",
              "      <th>CategoryID</th>\n",
              "      <th>TopicID</th>\n",
              "      <th>IndicatorID</th>\n",
              "      <th>Data_Value_TypeID</th>\n",
              "      <th>BreakoutCategoryID</th>\n",
              "      <th>BreakOutID</th>\n",
              "      <th>LocationID</th>\n",
              "      <th>GeoLocation</th>\n",
              "    </tr>\n",
              "  </thead>\n",
              "  <tbody>\n",
              "    <tr>\n",
              "      <th>0</th>\n",
              "      <td>2011</td>\n",
              "      <td>AL</td>\n",
              "      <td>Alabama</td>\n",
              "      <td>BRFSS</td>\n",
              "      <td>None</td>\n",
              "      <td>None</td>\n",
              "      <td>None</td>\n",
              "      <td>None</td>\n",
              "      <td>Cardiovascular Diseases</td>\n",
              "      <td>Major Cardiovascular Disease</td>\n",
              "      <td>Prevalence of major cardiovascular disease amo...</td>\n",
              "      <td>Age-Standardized</td>\n",
              "      <td>Percent (%)</td>\n",
              "      <td>9.9</td>\n",
              "      <td>9.9</td>\n",
              "      <td>None</td>\n",
              "      <td>None</td>\n",
              "      <td>9.2</td>\n",
              "      <td>10.7</td>\n",
              "      <td>Overall</td>\n",
              "      <td>Overall</td>\n",
              "      <td>C1</td>\n",
              "      <td>T1</td>\n",
              "      <td>BR001</td>\n",
              "      <td>AgeStdz</td>\n",
              "      <td>BOC01</td>\n",
              "      <td>OVR01</td>\n",
              "      <td>1</td>\n",
              "      <td>(32.84057112200048, -86.63186076199969)</td>\n",
              "    </tr>\n",
              "    <tr>\n",
              "      <th>1</th>\n",
              "      <td>2011</td>\n",
              "      <td>AL</td>\n",
              "      <td>Alabama</td>\n",
              "      <td>BRFSS</td>\n",
              "      <td>None</td>\n",
              "      <td>None</td>\n",
              "      <td>None</td>\n",
              "      <td>None</td>\n",
              "      <td>Cardiovascular Diseases</td>\n",
              "      <td>Major Cardiovascular Disease</td>\n",
              "      <td>Prevalence of major cardiovascular disease amo...</td>\n",
              "      <td>Crude</td>\n",
              "      <td>Percent (%)</td>\n",
              "      <td>11.0</td>\n",
              "      <td>11.0</td>\n",
              "      <td>None</td>\n",
              "      <td>None</td>\n",
              "      <td>10.2</td>\n",
              "      <td>11.9</td>\n",
              "      <td>Overall</td>\n",
              "      <td>Overall</td>\n",
              "      <td>C1</td>\n",
              "      <td>T1</td>\n",
              "      <td>BR001</td>\n",
              "      <td>Crude</td>\n",
              "      <td>BOC01</td>\n",
              "      <td>OVR01</td>\n",
              "      <td>1</td>\n",
              "      <td>(32.84057112200048, -86.63186076199969)</td>\n",
              "    </tr>\n",
              "    <tr>\n",
              "      <th>2</th>\n",
              "      <td>2011</td>\n",
              "      <td>AL</td>\n",
              "      <td>Alabama</td>\n",
              "      <td>BRFSS</td>\n",
              "      <td>None</td>\n",
              "      <td>None</td>\n",
              "      <td>None</td>\n",
              "      <td>None</td>\n",
              "      <td>Cardiovascular Diseases</td>\n",
              "      <td>Major Cardiovascular Disease</td>\n",
              "      <td>Prevalence of major cardiovascular disease amo...</td>\n",
              "      <td>Crude</td>\n",
              "      <td>Percent (%)</td>\n",
              "      <td>12.5</td>\n",
              "      <td>12.5</td>\n",
              "      <td>None</td>\n",
              "      <td>None</td>\n",
              "      <td>11.1</td>\n",
              "      <td>14.0</td>\n",
              "      <td>Gender</td>\n",
              "      <td>Male</td>\n",
              "      <td>C1</td>\n",
              "      <td>T1</td>\n",
              "      <td>BR001</td>\n",
              "      <td>Crude</td>\n",
              "      <td>BOC02</td>\n",
              "      <td>GEN01</td>\n",
              "      <td>1</td>\n",
              "      <td>(32.84057112200048, -86.63186076199969)</td>\n",
              "    </tr>\n",
              "    <tr>\n",
              "      <th>3</th>\n",
              "      <td>2011</td>\n",
              "      <td>AL</td>\n",
              "      <td>Alabama</td>\n",
              "      <td>BRFSS</td>\n",
              "      <td>None</td>\n",
              "      <td>None</td>\n",
              "      <td>None</td>\n",
              "      <td>None</td>\n",
              "      <td>Cardiovascular Diseases</td>\n",
              "      <td>Major Cardiovascular Disease</td>\n",
              "      <td>Prevalence of major cardiovascular disease amo...</td>\n",
              "      <td>Age-Standardized</td>\n",
              "      <td>Percent (%)</td>\n",
              "      <td>11.8</td>\n",
              "      <td>11.8</td>\n",
              "      <td>None</td>\n",
              "      <td>None</td>\n",
              "      <td>10.6</td>\n",
              "      <td>13.2</td>\n",
              "      <td>Gender</td>\n",
              "      <td>Male</td>\n",
              "      <td>C1</td>\n",
              "      <td>T1</td>\n",
              "      <td>BR001</td>\n",
              "      <td>AgeStdz</td>\n",
              "      <td>BOC02</td>\n",
              "      <td>GEN01</td>\n",
              "      <td>1</td>\n",
              "      <td>(32.84057112200048, -86.63186076199969)</td>\n",
              "    </tr>\n",
              "    <tr>\n",
              "      <th>4</th>\n",
              "      <td>2011</td>\n",
              "      <td>AL</td>\n",
              "      <td>Alabama</td>\n",
              "      <td>BRFSS</td>\n",
              "      <td>None</td>\n",
              "      <td>None</td>\n",
              "      <td>None</td>\n",
              "      <td>None</td>\n",
              "      <td>Cardiovascular Diseases</td>\n",
              "      <td>Major Cardiovascular Disease</td>\n",
              "      <td>Prevalence of major cardiovascular disease amo...</td>\n",
              "      <td>Age-Standardized</td>\n",
              "      <td>Percent (%)</td>\n",
              "      <td>8.3</td>\n",
              "      <td>8.3</td>\n",
              "      <td>None</td>\n",
              "      <td>None</td>\n",
              "      <td>7.5</td>\n",
              "      <td>9.1</td>\n",
              "      <td>Gender</td>\n",
              "      <td>Female</td>\n",
              "      <td>C1</td>\n",
              "      <td>T1</td>\n",
              "      <td>BR001</td>\n",
              "      <td>AgeStdz</td>\n",
              "      <td>BOC02</td>\n",
              "      <td>GEN02</td>\n",
              "      <td>1</td>\n",
              "      <td>(32.84057112200048, -86.63186076199969)</td>\n",
              "    </tr>\n",
              "  </tbody>\n",
              "</table>\n",
              "</div>"
            ]
          },
          "metadata": {},
          "execution_count": 5
        }
      ]
    },
    {
      "cell_type": "code",
      "source": [
        "chd_ps.describe()"
      ],
      "metadata": {
        "colab": {
          "base_uri": "https://localhost:8080/",
          "height": 300
        },
        "id": "ck4IqOKPE2iD",
        "outputId": "7d5c3e46-f1fb-45cf-c11b-e665fee8da78"
      },
      "execution_count": 4,
      "outputs": [
        {
          "output_type": "execute_result",
          "data": {
            "text/plain": [
              "               Year    Data_Value  Data_Value_Alt  Confidence_Limit_Low  Confidence_Limit_High    LocationID\n",
              "count  85800.000000  57032.000000    85800.000000          55633.000000           55633.000000  85800.000000\n",
              "mean    2013.000000     33.555527       21.780837             30.503187              36.873832     29.519231\n",
              "std        1.414222     28.750550       28.712095             27.946300              29.497116     16.029502\n",
              "min     2011.000000      0.100000       -2.000000              0.200000               0.600000      1.000000\n",
              "25%     2012.000000      8.700000       -1.000000              7.200000              10.400000     16.000000\n",
              "50%     2013.000000     26.400000        8.600000             22.300000              30.100000     29.000000\n",
              "75%     2014.000000     52.400000       33.300000             44.400000              60.200000     42.000000\n",
              "max     2015.000000     99.400000       99.400000             99.000000              99.700000     58.000000"
            ],
            "text/html": [
              "<div>\n",
              "<style scoped>\n",
              "    .dataframe tbody tr th:only-of-type {\n",
              "        vertical-align: middle;\n",
              "    }\n",
              "\n",
              "    .dataframe tbody tr th {\n",
              "        vertical-align: top;\n",
              "    }\n",
              "\n",
              "    .dataframe thead th {\n",
              "        text-align: right;\n",
              "    }\n",
              "</style>\n",
              "<table border=\"1\" class=\"dataframe\">\n",
              "  <thead>\n",
              "    <tr style=\"text-align: right;\">\n",
              "      <th></th>\n",
              "      <th>Year</th>\n",
              "      <th>Data_Value</th>\n",
              "      <th>Data_Value_Alt</th>\n",
              "      <th>Confidence_Limit_Low</th>\n",
              "      <th>Confidence_Limit_High</th>\n",
              "      <th>LocationID</th>\n",
              "    </tr>\n",
              "  </thead>\n",
              "  <tbody>\n",
              "    <tr>\n",
              "      <th>count</th>\n",
              "      <td>85800.000000</td>\n",
              "      <td>57032.000000</td>\n",
              "      <td>85800.000000</td>\n",
              "      <td>55633.000000</td>\n",
              "      <td>55633.000000</td>\n",
              "      <td>85800.000000</td>\n",
              "    </tr>\n",
              "    <tr>\n",
              "      <th>mean</th>\n",
              "      <td>2013.000000</td>\n",
              "      <td>33.555527</td>\n",
              "      <td>21.780837</td>\n",
              "      <td>30.503187</td>\n",
              "      <td>36.873832</td>\n",
              "      <td>29.519231</td>\n",
              "    </tr>\n",
              "    <tr>\n",
              "      <th>std</th>\n",
              "      <td>1.414222</td>\n",
              "      <td>28.750550</td>\n",
              "      <td>28.712095</td>\n",
              "      <td>27.946300</td>\n",
              "      <td>29.497116</td>\n",
              "      <td>16.029502</td>\n",
              "    </tr>\n",
              "    <tr>\n",
              "      <th>min</th>\n",
              "      <td>2011.000000</td>\n",
              "      <td>0.100000</td>\n",
              "      <td>-2.000000</td>\n",
              "      <td>0.200000</td>\n",
              "      <td>0.600000</td>\n",
              "      <td>1.000000</td>\n",
              "    </tr>\n",
              "    <tr>\n",
              "      <th>25%</th>\n",
              "      <td>2012.000000</td>\n",
              "      <td>8.700000</td>\n",
              "      <td>-1.000000</td>\n",
              "      <td>7.200000</td>\n",
              "      <td>10.400000</td>\n",
              "      <td>16.000000</td>\n",
              "    </tr>\n",
              "    <tr>\n",
              "      <th>50%</th>\n",
              "      <td>2013.000000</td>\n",
              "      <td>26.400000</td>\n",
              "      <td>8.600000</td>\n",
              "      <td>22.300000</td>\n",
              "      <td>30.100000</td>\n",
              "      <td>29.000000</td>\n",
              "    </tr>\n",
              "    <tr>\n",
              "      <th>75%</th>\n",
              "      <td>2014.000000</td>\n",
              "      <td>52.400000</td>\n",
              "      <td>33.300000</td>\n",
              "      <td>44.400000</td>\n",
              "      <td>60.200000</td>\n",
              "      <td>42.000000</td>\n",
              "    </tr>\n",
              "    <tr>\n",
              "      <th>max</th>\n",
              "      <td>2015.000000</td>\n",
              "      <td>99.400000</td>\n",
              "      <td>99.400000</td>\n",
              "      <td>99.000000</td>\n",
              "      <td>99.700000</td>\n",
              "      <td>58.000000</td>\n",
              "    </tr>\n",
              "  </tbody>\n",
              "</table>\n",
              "</div>"
            ]
          },
          "metadata": {},
          "execution_count": 4
        }
      ]
    },
    {
      "cell_type": "code",
      "source": [
        "plt.rcParams['figure.figsize'] = [12, 10]\n",
        "sns.set(font_scale = 1)\n",
        "sns.heatmap(chd_pd.corr(), annot = True)"
      ],
      "metadata": {
        "colab": {
          "base_uri": "https://localhost:8080/",
          "height": 732
        },
        "id": "yZVleRErFB66",
        "outputId": "e5beb1c3-659f-4762-ffe4-922bd6800cc5"
      },
      "execution_count": 6,
      "outputs": [
        {
          "output_type": "execute_result",
          "data": {
            "text/plain": [
              "<matplotlib.axes._subplots.AxesSubplot at 0x7f42a67f7d90>"
            ]
          },
          "metadata": {},
          "execution_count": 6
        },
        {
          "output_type": "display_data",
          "data": {
            "text/plain": [
              "<Figure size 864x720 with 2 Axes>"
            ],
            "image/png": "[encoded data removed]"
          },
          "metadata": {}
        }
      ]
    }
  ]
}